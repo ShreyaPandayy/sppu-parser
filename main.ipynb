{
 "cells": [
  {
   "cell_type": "code",
   "execution_count": 1,
   "metadata": {},
   "outputs": [],
   "source": [
    "from PyPDF2 import PdfReader\n",
    "import os\n",
    "import pandas as pd\n",
    "import numpy as np\n",
    "file = \"SE Result PDF.pdf\""
   ]
  },
  {
   "cell_type": "code",
   "execution_count": 2,
   "metadata": {},
   "outputs": [],
   "source": [
    "if os.path.exists(\"ouput.txt\"):\n",
    "    os.remove(\"output.txt\")\n",
    "if os.path.exists(\"extracted_data.txt\"):\n",
    "    os.remove(\"extracted_data.txt\")"
   ]
  },
  {
   "cell_type": "code",
   "execution_count": 7,
   "metadata": {},
   "outputs": [
    {
     "name": "stdout",
     "output_type": "stream",
     "text": [
      "Data extracted and saved to output.txt\n"
     ]
    }
   ],
   "source": [
    "from PyPDF2 import PdfReader\n",
    "\n",
    "def extract_and_remove_spaces(file, page_range=None, output_file=None):\n",
    "    '''\n",
    "    file: input pdf file\n",
    "    page_range: a tuple (start, end) representing the range of pages to scrape,\n",
    "                or None to extract all pages\n",
    "    output_file: the output file where the modified data will be saved,\n",
    "                 or None to not save to a file\n",
    "    '''\n",
    "    try:\n",
    "        reader = PdfReader(file)\n",
    "\n",
    "        # Determine the range of pages to extract\n",
    "        if page_range is None:\n",
    "            start_page = 0\n",
    "            end_page = len(reader.pages)\n",
    "        else:\n",
    "            start_page, end_page = page_range\n",
    "\n",
    "        extracted_text = \"\"\n",
    "\n",
    "        # Extract and process pages within the specified range\n",
    "        for page_no in range(start_page, end_page):\n",
    "            page = reader.pages[page_no]\n",
    "            page_text = page.extract_text()\n",
    "            \n",
    "            # Remove leading spaces until a non-space character is encountered\n",
    "            modified_text = \"\\n\".join(line.lstrip() for line in page_text.splitlines())\n",
    "            \n",
    "            extracted_text += modified_text + \"\\n\"\n",
    "\n",
    "        # Output the modified text to the specified file or print it\n",
    "        if output_file is not None:\n",
    "            with open(output_file, 'w') as f:\n",
    "                f.write(extracted_text)\n",
    "            print(f\"Data extracted and saved to {output_file}\")\n",
    "        else:\n",
    "            print(extracted_text)\n",
    "    except Exception as e:\n",
    "        print(f\"An error occurred: {e}\")\n",
    "\n",
    "# Example usage:\n",
    "input_pdf = file\n",
    "page_range = (0, 4)  # Extract pages 1 to 3 (0-based index)\n",
    "output_txt = 'output.txt'\n",
    "extract_and_remove_spaces(input_pdf, page_range, output_txt)\n"
   ]
  }
 ],
 "metadata": {
  "kernelspec": {
   "display_name": ".venv",
   "language": "python",
   "name": "python3"
  },
  "language_info": {
   "codemirror_mode": {
    "name": "ipython",
    "version": 3
   },
   "file_extension": ".py",
   "mimetype": "text/x-python",
   "name": "python",
   "nbconvert_exporter": "python",
   "pygments_lexer": "ipython3",
   "version": "3.10.12"
  },
  "orig_nbformat": 4
 },
 "nbformat": 4,
 "nbformat_minor": 2
}
